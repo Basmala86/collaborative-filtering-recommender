{
 "cells": [
  {
   "cell_type": "code",
   "execution_count": null,
   "id": "34d57369",
   "metadata": {},
   "outputs": [],
   "source": [
    "# 04_evaluation_and_visualization.ipynb\n",
    "\n",
    "import matplotlib.pyplot as plt\n",
    "import seaborn as sns\n",
    "from src.evaluation import compute_rmse\n",
    "\n",
    "# Example: visualizing RMSE results\n",
    "models = ['User-Based CF', 'Item-Based CF']\n",
    "rmse_scores = [0.94, 0.91]  # Example values, replace with actual\n",
    "\n",
    "sns.barplot(x=models, y=rmse_scores)\n",
    "plt.title(\"RMSE Comparison\")\n",
    "plt.ylabel(\"RMSE\")\n",
    "plt.show()\n"
   ]
  }
 ],
 "metadata": {
  "language_info": {
   "name": "python"
  }
 },
 "nbformat": 4,
 "nbformat_minor": 5
}
