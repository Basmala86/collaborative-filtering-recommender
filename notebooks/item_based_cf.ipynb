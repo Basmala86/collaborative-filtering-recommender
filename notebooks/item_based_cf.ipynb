{
 "cells": [
  {
   "cell_type": "code",
   "execution_count": null,
   "metadata": {},
   "outputs": [],
   "source": [
    "# 03_item_based_cf.ipynb\n",
    "\n",
    "import pandas as pd\n",
    "from surprise.model_selection import train_test_split\n",
    "from src.data_loader import load_data\n",
    "from src.recommender import get_dataset, train_item_based\n",
    "from src.evaluation import compute_rmse, get_top_n\n",
    "\n",
    "# Load and prepare data\n",
    "df = load_data()\n",
    "data = get_dataset(df)\n",
    "trainset, testset = train_test_split(data, test_size=0.2)\n",
    "\n",
    "# Train item-based model\n",
    "algo = train_item_based(trainset)\n",
    "\n",
    "# Evaluate\n",
    "rmse = compute_rmse(algo, testset)\n",
    "print(\"Item-based CF RMSE:\", rmse)\n",
    "\n",
    "# Top-N recommendations\n",
    "predictions = algo.test(testset)\n",
    "top_n = get_top_n(predictions, n=5)\n",
    "print(list(top_n.items())[:5])  # Sample output\n"
   ]
  }
 ],
 "metadata": {
  "kernelspec": {
   "display_name": "Python 3",
   "language": "python",
   "name": "python3"
  },
  "language_info": {
   "name": "python",
   "version": "3.10.11"
  }
 },
 "nbformat": 4,
 "nbformat_minor": 2
}
