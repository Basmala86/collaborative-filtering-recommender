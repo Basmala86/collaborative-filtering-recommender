{
 "cells": [
  {
   "cell_type": "code",
   "execution_count": null,
   "metadata": {},
   "outputs": [],
   "source": [
    "# 01_data_preprocessing.ipynb\n",
    "\n",
    "import pandas as pd\n",
    "from src.data_loader import load_data, load_item_info\n",
    "\n",
    "# Load ratings and movie info\n",
    "ratings = load_data()\n",
    "movies = load_item_info()\n",
    "\n",
    "# Merge to view movie titles with ratings (optional)\n",
    "merged_data = pd.merge(ratings, movies, on='item_id')\n",
    "print(merged_data.head())\n",
    "\n",
    "# Save preprocessed data if needed\n",
    "ratings.to_csv('data/ratings.csv', index=False)\n",
    "movies.to_csv('data/movies.csv', index=False)\n"
   ]
  }
 ],
 "metadata": {
  "kernelspec": {
   "display_name": "Python 3",
   "language": "python",
   "name": "python3"
  },
  "language_info": {
   "codemirror_mode": {
    "name": "ipython",
    "version": 3
   },
   "file_extension": ".py",
   "mimetype": "text/x-python",
   "name": "python",
   "nbconvert_exporter": "python",
   "pygments_lexer": "ipython3",
   "version": "3.10.11"
  }
 },
 "nbformat": 4,
 "nbformat_minor": 2
}
